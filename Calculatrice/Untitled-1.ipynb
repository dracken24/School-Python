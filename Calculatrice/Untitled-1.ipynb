{
 "cells": [
  {
   "cell_type": "code",
   "execution_count": 2,
   "metadata": {},
   "outputs": [
    {
     "name": "stdout",
     "output_type": "stream",
     "text": [
      "Plus haut\n",
      "Plus haut\n",
      "Plus haut\n",
      "Plus haut\n",
      "Numero trouve\n"
     ]
    }
   ],
   "source": [
    "import random\n",
    "import time\n",
    "\n",
    "random_Number: int = random.randint(1, 101);\n",
    "# print(\"RND: \", random_Number)\n",
    "\n",
    "while True:\n",
    "# {\n",
    "    user_number: int = int(input(\"Entrez un numero entre 1 et 100\"));\n",
    "\n",
    "    if user_number and (user_number > 100 or user_number < 1):\n",
    "    # {\n",
    "        print(\"Mauvais Bombre, Veillez entrer un nombre entre 1 et 100\");\n",
    "        time.sleep(2);\n",
    "        continue;\n",
    "    # }\n",
    "\n",
    "    if user_number < random_Number:\n",
    "    # {\n",
    "        print(\"Plus haut\");\n",
    "    # }\n",
    "    elif user_number > random_Number:\n",
    "    # {\n",
    "        print(\"Plus bas\");\n",
    "    # }\n",
    "    else:\n",
    "    # {\n",
    "        print(\"Numero trouve\");\n",
    "        time.sleep(2);\n",
    "        break;\n",
    "    # }\n",
    "# }"
   ]
  },
  {
   "cell_type": "code",
   "execution_count": 3,
   "metadata": {},
   "outputs": [
    {
     "name": "stdout",
     "output_type": "stream",
     "text": [
      "Y =  -13\n"
     ]
    }
   ],
   "source": [
    "x: int = int(input(\"Entrez un chiffre: \"))\n",
    "y: int = -(4 * x) + 7\n",
    "print(\"Y = \", y)"
   ]
  },
  {
   "cell_type": "code",
   "execution_count": null,
   "metadata": {},
   "outputs": [],
   "source": []
  }
 ],
 "metadata": {
  "kernelspec": {
   "display_name": ".venv",
   "language": "python",
   "name": "python3"
  },
  "language_info": {
   "codemirror_mode": {
    "name": "ipython",
    "version": 3
   },
   "file_extension": ".py",
   "mimetype": "text/x-python",
   "name": "python",
   "nbconvert_exporter": "python",
   "pygments_lexer": "ipython3",
   "version": "3.13.0"
  }
 },
 "nbformat": 4,
 "nbformat_minor": 2
}
