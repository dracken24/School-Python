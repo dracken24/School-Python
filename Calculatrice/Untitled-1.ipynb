{
 "cells": [
  {
   "cell_type": "code",
   "execution_count": 2,
   "metadata": {},
   "outputs": [
    {
     "ename": "ModuleNotFoundError",
     "evalue": "No module named 'utility'",
     "output_type": "error",
     "traceback": [
      "\u001b[0;31m---------------------------------------------------------------------------\u001b[0m",
      "\u001b[0;31mModuleNotFoundError\u001b[0m                       Traceback (most recent call last)",
      "Cell \u001b[0;32mIn[2], line 3\u001b[0m\n\u001b[1;32m      1\u001b[0m \u001b[38;5;28;01mfrom\u001b[39;00m \u001b[38;5;21;01mraylib\u001b[39;00m \u001b[38;5;28;01mimport\u001b[39;00m \u001b[38;5;241m*\u001b[39m\n\u001b[1;32m      2\u001b[0m \u001b[38;5;28;01mfrom\u001b[39;00m \u001b[38;5;21;01mpyray\u001b[39;00m \u001b[38;5;28;01mimport\u001b[39;00m Rectangle\n\u001b[0;32m----> 3\u001b[0m \u001b[38;5;28;01mfrom\u001b[39;00m \u001b[38;5;21;01mutility\u001b[39;00m \u001b[38;5;28;01mimport\u001b[39;00m draw_all_buttons, init_font, WINDOW_WIDTH, WINDOW_HEIGHT, WINDOW_TITLE\n\u001b[1;32m      5\u001b[0m \u001b[38;5;66;03m# void  main(int argc, char **argv)\u001b[39;00m\n\u001b[1;32m      6\u001b[0m \u001b[38;5;66;03m#{\u001b[39;00m\n\u001b[1;32m      7\u001b[0m \n\u001b[1;32m      8\u001b[0m     \u001b[38;5;66;03m# Window init\u001b[39;00m\n\u001b[1;32m      9\u001b[0m InitWindow(WINDOW_WIDTH, WINDOW_HEIGHT, WINDOW_TITLE\u001b[38;5;241m.\u001b[39mencode(\u001b[38;5;124m'\u001b[39m\u001b[38;5;124mutf-8\u001b[39m\u001b[38;5;124m'\u001b[39m));\n",
      "\u001b[0;31mModuleNotFoundError\u001b[0m: No module named 'utility'"
     ]
    }
   ],
   "source": [
    "from raylib import *\n",
    "from pyray import Rectangle\n",
    "from utility import draw_all_buttons, init_font, WINDOW_WIDTH, WINDOW_HEIGHT, WINDOW_TITLE\n",
    "\n",
    "# void  main(int argc, char **argv)\n",
    "#{\n",
    "\n",
    "    # Window init\n",
    "InitWindow(WINDOW_WIDTH, WINDOW_HEIGHT, WINDOW_TITLE.encode('utf-8'));\n",
    "SetTargetFPS(60);  # FPS to 60\n",
    "\n",
    "init_font();\n",
    "\n",
    "########################################################################\n",
    "\n",
    "# Game loop\n",
    "while (not WindowShouldClose()):    # Detect window close\n",
    "#{\n",
    "    # Drawing begin\n",
    "    BeginDrawing();\n",
    "\n",
    "    ClearBackground(LIGHTGRAY);     # Clear screen with white color\n",
    "\n",
    "    # # Draw signs buttons */+-\n",
    "    draw_all_buttons();\n",
    "\n",
    "    # Draw Border\n",
    "    DrawRectangleLinesEx(Rectangle(4, 4, WINDOW_WIDTH - 8, WINDOW_HEIGHT - 8), 4, DARKGRAY);\n",
    "\n",
    "    EndDrawing();\n",
    "#}\n",
    "\n",
    "# Window close\n",
    "CloseWindow();\n",
    "#}"
   ]
  }
 ],
 "metadata": {
  "kernelspec": {
   "display_name": ".venv",
   "language": "python",
   "name": "python3"
  },
  "language_info": {
   "codemirror_mode": {
    "name": "ipython",
    "version": 3
   },
   "file_extension": ".py",
   "mimetype": "text/x-python",
   "name": "python",
   "nbconvert_exporter": "python",
   "pygments_lexer": "ipython3",
   "version": "3.13.0"
  }
 },
 "nbformat": 4,
 "nbformat_minor": 2
}
