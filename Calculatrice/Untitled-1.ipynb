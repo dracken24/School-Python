{
 "cells": [
  {
   "cell_type": "code",
   "execution_count": 3,
   "metadata": {},
   "outputs": [
    {
     "name": "stdout",
     "output_type": "stream",
     "text": [
      "INFO: Initializing raylib 5.0\n",
      "INFO: Platform backend: DESKTOP (GLFW)\n",
      "INFO: Supported raylib modules:\n",
      "INFO:     > rcore:..... loaded (mandatory)\n",
      "INFO:     > rlgl:...... loaded (mandatory)\n",
      "INFO:     > rshapes:... loaded (optional)\n",
      "INFO:     > rtextures:. loaded (optional)\n",
      "INFO:     > rtext:..... loaded (optional)\n",
      "INFO:     > rmodels:... loaded (optional)\n",
      "INFO:     > raudio:.... loaded (optional)\n",
      "INFO: DISPLAY: Device initialized successfully\n",
      "INFO:     > Display size: 2560 x 1080\n",
      "INFO:     > Screen size:  350 x 650\n",
      "INFO:     > Render size:  350 x 650\n",
      "INFO:     > Viewport offsets: 0, 0\n",
      "INFO: GLAD: OpenGL extensions loaded successfully\n",
      "INFO: GL: Supported extensions count: 194\n",
      "INFO: GL: OpenGL device information:\n",
      "INFO:     > Vendor:   Microsoft Corporation\n",
      "INFO:     > Renderer: D3D12 (Intel(R) UHD Graphics)\n",
      "INFO:     > Version:  4.1 (Core Profile) Mesa 24.0.9-0ubuntu0.2\n",
      "INFO:     > GLSL:     4.10\n",
      "INFO: GL: VAO extension detected, VAO functions loaded successfully\n",
      "INFO: GL: NPOT textures extension detected, full NPOT textures supported\n",
      "INFO: GL: DXT compressed textures supported\n",
      "INFO: GL: ETC2/EAC compressed textures supported\n",
      "INFO: PLATFORM: DESKTOP (GLFW): Initialized successfully\n",
      "INFO: TEXTURE: [ID 1] Texture loaded successfully (1x1 | R8G8B8A8 | 1 mipmaps)\n",
      "INFO: TEXTURE: [ID 1] Default texture loaded successfully\n",
      "INFO: SHADER: [ID 1] Vertex shader compiled successfully\n",
      "INFO: SHADER: [ID 2] Fragment shader compiled successfully\n",
      "INFO: SHADER: [ID 3] Program shader loaded successfully\n",
      "INFO: SHADER: [ID 3] Default shader loaded successfully\n",
      "INFO: RLGL: Render batch vertex buffers loaded successfully in RAM (CPU)\n",
      "INFO: RLGL: Render batch vertex buffers loaded successfully in VRAM (GPU)\n",
      "INFO: RLGL: Default OpenGL state initialized successfully\n",
      "INFO: TEXTURE: [ID 2] Texture loaded successfully (128x128 | GRAY_ALPHA | 1 mipmaps)\n",
      "INFO: FONT: Default font loaded successfully (224 glyphs)\n",
      "INFO: TIMER: Target time per frame: 16.667 milliseconds\n"
     ]
    },
    {
     "name": "stderr",
     "output_type": "stream",
     "text": [
      "MESA: error: ZINK: failed to choose pdev\n",
      "glx: failed to create drisw screen\n"
     ]
    },
    {
     "name": "stdout",
     "output_type": "stream",
     "text": [
      "INFO: TEXTURE: [ID 2] Unloaded texture data from VRAM (GPU)\n",
      "INFO: SHADER: [ID 3] Default shader unloaded successfully\n",
      "INFO: TEXTURE: [ID 1] Default texture unloaded successfully\n",
      "INFO: Window closed successfully\n"
     ]
    }
   ],
   "source": [
    "from raylib import *\n",
    "from pyray import Vector2\n",
    "from utility import PrintTest\n",
    "\n",
    "# Initialisation\n",
    "WINDOW_WIDTH: int = 350;\n",
    "WINDOW_HEIGHT: int = 650;\n",
    "WINDOW_TITLE: int = \"Calculatator\";\n",
    "\n",
    "# void  main(int argc, char **argv)\n",
    "#{\n",
    "    # Window init\n",
    "InitWindow(WINDOW_WIDTH, WINDOW_HEIGHT, WINDOW_TITLE.encode('utf-8'));\n",
    "SetTargetFPS(60);  # FPS to 60\n",
    "\n",
    "# Game loop\n",
    "while (not WindowShouldClose()):    # Detect window close\n",
    "#{\n",
    "    \n",
    "    # Drawing begin\n",
    "    BeginDrawing();\n",
    "\n",
    "    ClearBackground(DARKGRAY);     # Clear screen with white color\n",
    "    vec2_Pos = Vector2(WINDOW_WIDTH, WINDOW_HEIGHT);\n",
    "    PrintTest(vec2_Pos);\n",
    "\n",
    "    EndDrawing();\n",
    "#}\n",
    "\n",
    "# Window close\n",
    "CloseWindow();"
   ]
  }
 ],
 "metadata": {
  "kernelspec": {
   "display_name": ".venv",
   "language": "python",
   "name": "python3"
  },
  "language_info": {
   "codemirror_mode": {
    "name": "ipython",
    "version": 3
   },
   "file_extension": ".py",
   "mimetype": "text/x-python",
   "name": "python",
   "nbconvert_exporter": "python",
   "pygments_lexer": "ipython3",
   "version": "3.13.0"
  }
 },
 "nbformat": 4,
 "nbformat_minor": 2
}
