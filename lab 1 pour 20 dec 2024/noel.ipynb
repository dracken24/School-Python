{
 "cells": [
  {
   "cell_type": "markdown",
   "metadata": {},
   "source": [
    "# 🎄 Lab 1 Python : Générateur de Cadeaux pour Noël"
   ]
  },
  {
   "cell_type": "markdown",
   "metadata": {},
   "source": [
    "Ce projet vous permettra de créer un programme interactif qui gère la distribution des cadeaux de Noël.\n",
    "\n",
    "## Date de soumission : Vendredi 20 Decembre 2024 | 23h59\n",
    "\n",
    "## Auteur\n",
    "- **Nom et Prenom :**  Desjardins Nadia\n",
    "- **Groupe :** 24606\n",
    "\n",
    "\n",
    "## Objectifs :\n",
    "1. Créer un profil pour le Père Noël avec son nom, prénom et emplacement.\n",
    "2. Gérer une liste d'enfants avec leurs informations : nom, cadeau souhaité, emplacement, sagesse.\n",
    "3. Gérer un inventaire de cadeaux et vérifier leur disponibilité.\n",
    "4. Attribuer les cadeaux en respectant les conditions (emplacement, sagesse, disponibilité).\n",
    "5. Générer un rapport final listant les cadeaux livrés et les livraisons impossibles."
   ]
  },
  {
   "cell_type": "markdown",
   "metadata": {},
   "source": [
    "## Fonctions et procedures"
   ]
  },
  {
   "cell_type": "markdown",
   "metadata": {},
   "source": [
    "***N'oubliez pas d'ajouter des commentaires a votre code !***"
   ]
  },
  {
   "cell_type": "code",
   "execution_count": 25,
   "metadata": {},
   "outputs": [],
   "source": [
    "from colorama import init, Fore\n",
    "init(strip=False, autoreset=True)"
   ]
  },
  {
   "cell_type": "code",
   "execution_count": 26,
   "metadata": {},
   "outputs": [],
   "source": [
    "# retourne les infos de profil du pere noel\n",
    "def creer_profil_pere_noel():\n",
    "    name: str = \"\"\n",
    "    first_name: str = \"\"\n",
    "    city: str = \"\"\n",
    "\n",
    "    name = input(\"Veuillez entrer le nom du pere noel: \")\n",
    "    while True:\n",
    "        # Verification du nom\n",
    "        if (len(name) <= 0):\n",
    "            print(Fore.RED + \"ERROR, Champ vide, nom requis.\")\n",
    "            name = input(\"Veuillez entrer le nom du pere noel: \")\n",
    "            continue\n",
    "\n",
    "        # Verification du prenom\n",
    "        if (len(first_name) <= 0):\n",
    "            first_name = input(\"Veuillez entrer le prenom du pere noel: \")\n",
    "        if (len(first_name) <= 0):\n",
    "            print(Fore.RED + \"ERROR, Champ vide, prenom requis.\")\n",
    "            continue\n",
    "        \n",
    "        # Verification de la ville\n",
    "        city = input(\"Veuillez entrer la ville du pere noel: \")\n",
    "        if (len(city) <= 0):\n",
    "            print(Fore.RED + \"ERROR, Champ vide, ville requise.\")\n",
    "            continue\n",
    "\n",
    "        # retourne les 3 valeurs si les 3 champs sont remplis\n",
    "        else:\n",
    "            return name, first_name, city"
   ]
  },
  {
   "cell_type": "code",
   "execution_count": 27,
   "metadata": {},
   "outputs": [],
   "source": [
    "liste_enfants: dict = {}\n",
    "\n",
    "# Afficher les enfants present dans le dictionnaire\n",
    "def afficher_liste_enfants():\n",
    "    print(Fore.BLUE + \"********************************* Liste des enfanst *********************************\")\n",
    "\n",
    "    if len(liste_enfants) == 0:\n",
    "        print(Fore.BLUE + \"Aucun enfant dans la liste pour le moment.\")\n",
    "    else: #Key child\n",
    "        for child in liste_enfants:\n",
    "            child_info = liste_enfants[child]\n",
    "            print(Fore.GREEN + f\"Nom: {child}, Cadeau souhaite: ́{child_info[0]}, Emplacement: {child_info[1]}, Sage: {child_info[2]}\")\n",
    "\n",
    "    print(Fore.BLUE + \"*************************************************************************************\")\n",
    "\n",
    "# Ajouter un enfant dans la liste du pere noel\n",
    "def ajouter_enfant() -> bool:\n",
    "    name: str = \"\"\n",
    "    name_find: bool = False\n",
    "    gift: str = \"\"\n",
    "    gift_find: bool = False\n",
    "    city: str = \"\"\n",
    "    city_find: bool = False\n",
    "    sage = \"\"\n",
    "\n",
    "    while True:\n",
    "        # Verification du nom de l'enfant\n",
    "        if name_find == False:\n",
    "            name = input(\"Veuillez entrer le nom de l'enfant: \")\n",
    "            if (len(name) <= 0):\n",
    "                print(Fore.RED + \"ERROR, Champ vide, nom requis.\")\n",
    "                continue\n",
    "            name_find = True\n",
    "\n",
    "        # Verification du cadeau de l'enfant\n",
    "        if gift_find == False:\n",
    "            gift = input(\"Veuillez entrer le cadeau de l'enfant: \")\n",
    "            if (len(gift) <= 0):\n",
    "                print(Fore.RED + \"ERROR, Champ vide, cadeau requis.\")\n",
    "                continue\n",
    "            gift_find = True\n",
    "\n",
    "        # Verification de la ville de l'enfant\n",
    "        if city_find == False:\n",
    "            city = input(\"Veuillez entrer la ville de l'enfant: \")\n",
    "            if (len(city) <= 0):\n",
    "                print(Fore.RED + \"ERROR, Champ vide, ville requise.\")\n",
    "                continue\n",
    "            city_find = True\n",
    "\n",
    "        # Verification de la sagesse\n",
    "        sage = input(\"L'enfant a-t-il ete sage? [T] pour oui [F] non: \")\n",
    "        if (len(sage) != 1):\n",
    "            print(Fore.RED + \"ERROR, entree invalide.\")\n",
    "            continue\n",
    "        else:\n",
    "            if sage[0] == 'T' or sage[0] == 't':\n",
    "                sage = True\n",
    "            else:\n",
    "                sage = False\n",
    "            break\n",
    "\n",
    "    # Verifier si l'enfant existe\n",
    "    for child in liste_enfants:\n",
    "        if child == name:\n",
    "            return False\n",
    "    \n",
    "    # Ajout de l'enfant au dictionnaire\n",
    "    liste_enfants.update({name: (gift, city, sage)})\n",
    "    return True\n",
    "\n",
    "def modifier_sagesse_enfant():\n",
    "    print(\"\")"
   ]
  },
  {
   "cell_type": "code",
   "execution_count": 28,
   "metadata": {},
   "outputs": [],
   "source": [
    "def maj_inventaire_cadeau():\n",
    "    print(\"\")\n",
    "\n",
    "def attribuer_cadeaux():\n",
    "    print(\"\")\n"
   ]
  },
  {
   "cell_type": "code",
   "execution_count": 29,
   "metadata": {},
   "outputs": [],
   "source": [
    "def generer_rapport():\n",
    "    print(\"\")"
   ]
  },
  {
   "cell_type": "code",
   "execution_count": 30,
   "metadata": {},
   "outputs": [],
   "source": [
    "def print_profil(profil: tuple[str, str, str]):\n",
    "    [name, first_name, city] = profil\n",
    "\n",
    "    print(Fore.BLUE + \"************** Creation du profil du Pere Noel **************\")\n",
    "    print(Fore.GREEN + \"Nom   : \", name)\n",
    "    print(Fore.GREEN + \"Prenom: \", first_name)\n",
    "    print(Fore.GREEN + \"Ville : \", city)\n",
    "    print(Fore.BLUE + \"*************************************************************\")\n",
    "    "
   ]
  },
  {
   "cell_type": "markdown",
   "metadata": {},
   "source": [
    "## Programme principal"
   ]
  },
  {
   "cell_type": "code",
   "execution_count": 31,
   "metadata": {},
   "outputs": [],
   "source": [
    "def main():\n",
    "    # Profil\n",
    "    # test = creer_profil_pere_noel()\n",
    "    # print_profil(test)\n",
    "    # print(f\"Bienvenue, Pere Noel {test[1]} {test[0]} situe a {test[2]}\")\n",
    "    ########\n",
    "\n",
    "    # Enfants\n",
    "    ajouter_enfant()\n",
    "    ajouter_enfant()\n",
    "    ajouter_enfant()\n",
    "    afficher_liste_enfants()\n",
    "\n",
    "\n",
    "    '''\n",
    "    Remplir le code ici \n",
    "    \n",
    "    * Creez l'inventaire des cadeaux (tuples) -\n",
    "    * Creez la liste des enfants (tuples) - # respectez le format du tuple (voir l'enonce)\n",
    "    \n",
    "    avec le menu interactif : \n",
    "    \n",
    "    Menu Principal\n",
    "        1. Afficher la liste des enfants\n",
    "        2. Ajouter un enfant\n",
    "        3. Modifier le statut de sagesse d’un enfant\n",
    "        4. Attribuer les cadeaux\n",
    "        5. Quitter (Yes/No) ?\n",
    "    '''"
   ]
  },
  {
   "cell_type": "code",
   "execution_count": 32,
   "metadata": {},
   "outputs": [
    {
     "name": "stdout",
     "output_type": "stream",
     "text": [
      "Exist\u001b[0m\u001b[0m\u001b[0m\u001b[0m\u001b[0m\u001b[0m\u001b[0m\u001b[0m\u001b[0m\u001b[0m\u001b[0m\u001b[0m\u001b[0m\u001b[0m\u001b[0m\n",
      "\u001b[0m\u001b[0m\u001b[0m\u001b[0m\u001b[0m\u001b[0m\u001b[0m\u001b[0m\u001b[0m\u001b[0m\u001b[0m\u001b[0m\u001b[0m\u001b[0m\u001b[0m\u001b[34m********************************* Liste des enfanst *********************************\u001b[0m\u001b[0m\u001b[0m\u001b[0m\u001b[0m\u001b[0m\u001b[0m\u001b[0m\u001b[0m\u001b[0m\u001b[0m\u001b[0m\u001b[0m\u001b[0m\u001b[0m\n",
      "\u001b[0m\u001b[0m\u001b[0m\u001b[0m\u001b[0m\u001b[0m\u001b[0m\u001b[0m\u001b[0m\u001b[0m\u001b[0m\u001b[0m\u001b[0m\u001b[0m\u001b[0m\u001b[32mNom: a, Cadeau souhaite: ́a, Emplacement: a, Sage: True\u001b[0m\u001b[0m\u001b[0m\u001b[0m\u001b[0m\u001b[0m\u001b[0m\u001b[0m\u001b[0m\u001b[0m\u001b[0m\u001b[0m\u001b[0m\u001b[0m\u001b[0m\n",
      "\u001b[0m\u001b[0m\u001b[0m\u001b[0m\u001b[0m\u001b[0m\u001b[0m\u001b[0m\u001b[0m\u001b[0m\u001b[0m\u001b[0m\u001b[0m\u001b[0m\u001b[0m\u001b[32mNom: f, Cadeau souhaite: ́f, Emplacement: f, Sage: False\u001b[0m\u001b[0m\u001b[0m\u001b[0m\u001b[0m\u001b[0m\u001b[0m\u001b[0m\u001b[0m\u001b[0m\u001b[0m\u001b[0m\u001b[0m\u001b[0m\u001b[0m\n",
      "\u001b[0m\u001b[0m\u001b[0m\u001b[0m\u001b[0m\u001b[0m\u001b[0m\u001b[0m\u001b[0m\u001b[0m\u001b[0m\u001b[0m\u001b[0m\u001b[0m\u001b[0m\u001b[34m*************************************************************************************\u001b[0m\u001b[0m\u001b[0m\u001b[0m\u001b[0m\u001b[0m\u001b[0m\u001b[0m\u001b[0m\u001b[0m\u001b[0m\u001b[0m\u001b[0m\u001b[0m\u001b[0m\n",
      "\u001b[0m\u001b[0m\u001b[0m\u001b[0m\u001b[0m\u001b[0m\u001b[0m\u001b[0m\u001b[0m\u001b[0m\u001b[0m\u001b[0m\u001b[0m\u001b[0m\u001b[0m"
     ]
    }
   ],
   "source": [
    "main()"
   ]
  },
  {
   "cell_type": "markdown",
   "metadata": {},
   "source": [
    "\n",
    "\n",
    "\n",
    "\n",
    "\n",
    "\n",
    "\n",
    "# 🎄 Joyeux Noël et Bonne Annee ! 🎄"
   ]
  }
 ],
 "metadata": {
  "kernelspec": {
   "display_name": "Python 3 (ipykernel)",
   "language": "python",
   "name": "python3"
  },
  "language_info": {
   "codemirror_mode": {
    "name": "ipython",
    "version": 3
   },
   "file_extension": ".py",
   "mimetype": "text/x-python",
   "name": "python",
   "nbconvert_exporter": "python",
   "pygments_lexer": "ipython3",
   "version": "3.13.0"
  }
 },
 "nbformat": 4,
 "nbformat_minor": 2
}
